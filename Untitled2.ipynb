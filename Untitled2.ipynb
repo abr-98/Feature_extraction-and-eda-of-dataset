{
 "cells": [
  {
   "cell_type": "code",
   "execution_count": 17,
   "metadata": {},
   "outputs": [
    {
     "name": "stderr",
     "output_type": "stream",
     "text": [
      "/home/arpan/.local/lib/python3.6/site-packages/sklearn/utils/validation.py:761: DataConversionWarning: A column-vector y was passed when a 1d array was expected. Please change the shape of y to (n_samples, ), for example using ravel().\n",
      "  y = column_or_1d(y, warn=True)\n"
     ]
    },
    {
     "name": "stdout",
     "output_type": "stream",
     "text": [
      "0.7066916823014384\n"
     ]
    }
   ],
   "source": [
    "import pandas as pd\n",
    "import numpy as np\n",
    "from sklearn.model_selection import cross_val_score,GridSearchCV,train_test_split\n",
    "from sklearn.ensemble import GradientBoostingClassifier\n",
    "\n",
    "list=pd.read_csv('dataset.csv')\n",
    "\n",
    "X=list[['Honk_duration','RMS','Intersection density','WiFi density']].values\n",
    "X_d=pd.DataFrame(X)\n",
    "y=list['Class'].values\n",
    "y_d=pd.DataFrame(y)\n",
    "\n",
    "X_d_2=pd.get_dummies(X_d)\n",
    "y_d_2=pd.get_dummies(y_d)\n",
    "\n",
    "X_train, X_test, y_train, y_test = train_test_split(X_d,y_d,test_size=0.3,random_state=42)\n",
    "\n",
    "gbc=GradientBoostingClassifier(learning_rate=0.07,n_estimators=123,max_depth=5,min_samples_split=50,min_samples_leaf=5,subsample=0.8,max_features='sqrt',random_state=21)\n",
    "\n",
    "gbc.fit(X_train,y_train)\n",
    "y_pred=gbc.predict(X_test)\n",
    "\n",
    "print(gbc.score(X_test,y_test))\n",
    "\n",
    "\n"
   ]
  },
  {
   "cell_type": "code",
   "execution_count": 25,
   "metadata": {},
   "outputs": [
    {
     "name": "stderr",
     "output_type": "stream",
     "text": [
      "/home/arpan/.local/lib/python3.6/site-packages/sklearn/utils/validation.py:761: DataConversionWarning: A column-vector y was passed when a 1d array was expected. Please change the shape of y to (n_samples, ), for example using ravel().\n",
      "  y = column_or_1d(y, warn=True)\n"
     ]
    },
    {
     "name": "stdout",
     "output_type": "stream",
     "text": [
      "0.6966854283927455\n"
     ]
    }
   ],
   "source": [
    "import pandas as pd\n",
    "import numpy as np\n",
    "from sklearn.model_selection import cross_val_score,GridSearchCV,train_test_split\n",
    "from sklearn.ensemble import GradientBoostingClassifier\n",
    "\n",
    "list=pd.read_csv('dataset.csv')\n",
    "\n",
    "X=list[['Honk_duration','RMS','Intersection density','WiFi density']].values\n",
    "X_d=pd.DataFrame(X)\n",
    "y=list['Class'].values\n",
    "y_d=pd.DataFrame(y)\n",
    "\n",
    "X_d_2=pd.get_dummies(X_d)\n",
    "y_d_2=pd.get_dummies(y_d)\n",
    "\n",
    "X_train, X_test, y_train, y_test = train_test_split(X_d,y_d,test_size=0.3,random_state=42)\n",
    "\n",
    "gbc=GradientBoostingClassifier(learning_rate=0.1,n_estimators=125,max_depth=5,min_samples_split=50,min_samples_leaf=5,subsample=0.8,max_features='sqrt',random_state=21)\n",
    "\n",
    "gbc.fit(X_train,y_train)\n",
    "y_pred=gbc.predict(X_test)\n",
    "\n",
    "print(gbc.score(X_test,y_test))\n",
    "\n",
    "\n"
   ]
  },
  {
   "cell_type": "code",
   "execution_count": 5,
   "metadata": {},
   "outputs": [
    {
     "name": "stderr",
     "output_type": "stream",
     "text": [
      "/home/arpan/.local/lib/python3.6/site-packages/sklearn/utils/validation.py:761: DataConversionWarning: A column-vector y was passed when a 1d array was expected. Please change the shape of y to (n_samples, ), for example using ravel().\n",
      "  y = column_or_1d(y, warn=True)\n"
     ]
    },
    {
     "name": "stdout",
     "output_type": "stream",
     "text": [
      "0.7035647279549718\n"
     ]
    }
   ],
   "source": [
    "import pandas as pd\n",
    "import numpy as np\n",
    "from sklearn.model_selection import cross_val_score,GridSearchCV\n",
    "from sklearn.ensemble import GradientBoostingClassifier\n",
    "\n",
    "list=pd.read_csv('dataset.csv')\n",
    "\n",
    "X=list[['Honk_duration','RMS','Intersection density','WiFi density']].values\n",
    "X_d=pd.DataFrame(X)\n",
    "y=list['Class'].values\n",
    "y_d=pd.DataFrame(y)\n",
    "\n",
    "X_d_2=pd.get_dummies(X_d)\n",
    "y_d_2=pd.get_dummies(y_d)\n",
    "\n",
    "X_train, X_test, y_train, y_test = train_test_split(X_d,y_d,test_size=0.3,random_state=42)\n",
    "\n",
    "gbc=GradientBoostingClassifier(learning_rate=0.05,n_estimators=125,max_depth=5,min_samples_split=50,min_samples_leaf=5,subsample=0.8,max_features='sqrt')\n",
    "\n",
    "gbc.fit(X_train,y_train)\n",
    "y_pred=gbc.predict(X_test)\n",
    "\n",
    "print(gbc.score(X_test,y_test))\n",
    "\n",
    "\n"
   ]
  },
  {
   "cell_type": "code",
   "execution_count": 6,
   "metadata": {},
   "outputs": [
    {
     "name": "stdout",
     "output_type": "stream",
     "text": [
      "0.6651031894934334\n"
     ]
    }
   ],
   "source": [
    "from sklearn.preprocessing import MultiLabelBinarizer\n",
    "import pandas as pd\n",
    "import numpy as np\n",
    "from sklearn.model_selection import train_test_split\n",
    "from sklearn.tree import DecisionTreeClassifier\n",
    "\n",
    "list=pd.read_csv('6mar.csv')\n",
    "\n",
    "cond=list['Mean_speed_kmph'].values\n",
    "cond_d=pd.DataFrame(cond)\n",
    "X=list[['Honk_duration','Road_surface','Intersection density','WiFi density']].values\n",
    "X_d=pd.DataFrame(X)\n",
    "y=list[['SpeedRange']].values\n",
    "y_d=pd.DataFrame(y)\n",
    "y_d_2=pd.get_dummies(y_d)\n",
    "#print(y_d_2)\n",
    "#print(cond_d)\n",
    "y_d.loc[cond_d[0]<=22.5,'SpeedRange']=['1']\n",
    "y_d.loc[cond_d[0]>22.5,'SpeedRange']=['2']\n",
    "y_d.loc[cond_d[0]>37.5,'SpeedRange']=['3']\n",
    "y_d.loc[cond_d[0]>52.5,'SpeedRange']=['4']\n",
    "i=0\n",
    "#range=5328\n",
    "while i<5328:\n",
    "    if cond_d.iloc[i,0]>=19.5 and cond_d.iloc[i,0]<21.5:\n",
    "        y_d.at[i,'SpeedRange']=['1','2']\n",
    "    if cond_d.iloc[i,0]>=31.5 and cond_d.iloc[i,0]<36.5:\n",
    "        y_d.at[i,'SpeedRange']=['2','3']\n",
    "    if cond_d.iloc[i,0]>=48.5 and cond_d.iloc[i,0]<51.5:\n",
    "        y_d.at[i,'SpeedRange']=['3','4']\n",
    "    i=i+1\n",
    "    \n",
    "    \n",
    "#print(y_d['SpeedRange'])\n",
    "new_y=y_d['SpeedRange'].copy()\n",
    "new_y_d=pd.DataFrame(new_y)\n",
    "#print(new_y)\n",
    "y_l=new_y.values.tolist()\n",
    "\n",
    "#print(y_l)\n",
    "#print(y_l.type())\n",
    "new_y_d2=MultiLabelBinarizer().fit_transform(y_l)\n",
    "#print(new_y_d2)\n",
    "\n",
    "X_train,X_test,y_train,y_test=train_test_split(X_d,y_d_2,test_size=0.4,random_state=21)\n",
    "clf = DecisionTreeClassifier(max_depth=9,min_samples_leaf=6)\n",
    "clf.fit(X_train,y_train)\n",
    "print(clf.score(X_test,y_test))\n",
    "\n",
    "\n",
    "\n",
    "\n"
   ]
  },
  {
   "cell_type": "code",
   "execution_count": 3,
   "metadata": {},
   "outputs": [
    {
     "name": "stderr",
     "output_type": "stream",
     "text": [
      "/home/arpan/.local/lib/python3.6/site-packages/sklearn/utils/validation.py:761: DataConversionWarning: A column-vector y was passed when a 1d array was expected. Please change the shape of y to (n_samples, ), for example using ravel().\n",
      "  y = column_or_1d(y, warn=True)\n"
     ]
    },
    {
     "name": "stdout",
     "output_type": "stream",
     "text": [
      "0.6913696060037523\n"
     ]
    }
   ],
   "source": [
    "from sklearn.preprocessing import MultiLabelBinarizer\n",
    "import pandas as pd\n",
    "import numpy as np\n",
    "from sklearn.model_selection import train_test_split\n",
    "from sklearn.ensemble import GradientBoostingClassifier\n",
    "\n",
    "list=pd.read_csv('6mar.csv')\n",
    "\n",
    "cond=list['Mean_speed_kmph'].values\n",
    "cond_d=pd.DataFrame(cond)\n",
    "X=list[['Honk_duration','Road_surface','Intersection density','WiFi density']].values\n",
    "X_d=pd.DataFrame(X)\n",
    "y=list[['SpeedRange']].values\n",
    "y_d=pd.DataFrame(y)\n",
    "y_d_2=pd.get_dummies(y_d)\n",
    "#print(y_d_2)\n",
    "#print(cond_d)\n",
    "y_d.loc[cond_d[0]<=22.5,'SpeedRange']=['1']\n",
    "y_d.loc[cond_d[0]>22.5,'SpeedRange']=['2']\n",
    "y_d.loc[cond_d[0]>37.5,'SpeedRange']=['3']\n",
    "y_d.loc[cond_d[0]>52.5,'SpeedRange']=['4']\n",
    "i=0\n",
    "#range=5328\n",
    "while i<5328:\n",
    "    if cond_d.iloc[i,0]>=18.5 and cond_d.iloc[i,0]<22.5:\n",
    "        y_d.at[i,'SpeedRange']=['1','2']\n",
    "    if cond_d.iloc[i,0]>=32.5 and cond_d.iloc[i,0]<37.5:\n",
    "        y_d.at[i,'SpeedRange']=['2','3']\n",
    "    if cond_d.iloc[i,0]>=47.5 and cond_d.iloc[i,0]<52.5:\n",
    "        y_d.at[i,'SpeedRange']=['3','4']\n",
    "    i=i+1\n",
    "    \n",
    "    \n",
    "#print(y_d['SpeedRange'])\n",
    "new_y=y_d['SpeedRange'].copy()\n",
    "new_y_d=pd.DataFrame(new_y)\n",
    "#print(new_y)\n",
    "y_l=new_y.values.tolist()\n",
    "\n",
    "#print(y_l)\n",
    "#print(y_l.type())\n",
    "new_y_d2=MultiLabelBinarizer().fit_transform(y_l)\n",
    "#print(new_y_d2)\n",
    "\n",
    "X_train,X_test,y_train,y_test=train_test_split(X_d,y_d_2,test_size=0.4,random_state=21)\n",
    "gbc=GradientBoostingClassifier(learning_rate=0.05,n_estimators=125,max_depth=5,min_samples_split=50,min_samples_leaf=5,subsample=0.8,max_features='sqrt')\n",
    "\n",
    "gbc.fit(X_train,y_train)\n",
    "print(gbc.score(X_test,y_test))\n",
    "\n",
    "\n",
    "\n",
    "\n"
   ]
  },
  {
   "cell_type": "code",
   "execution_count": null,
   "metadata": {},
   "outputs": [],
   "source": []
  }
 ],
 "metadata": {
  "kernelspec": {
   "display_name": "Python 3",
   "language": "python",
   "name": "python3"
  },
  "language_info": {
   "codemirror_mode": {
    "name": "ipython",
    "version": 3
   },
   "file_extension": ".py",
   "mimetype": "text/x-python",
   "name": "python",
   "nbconvert_exporter": "python",
   "pygments_lexer": "ipython3",
   "version": "3.6.7"
  }
 },
 "nbformat": 4,
 "nbformat_minor": 2
}
