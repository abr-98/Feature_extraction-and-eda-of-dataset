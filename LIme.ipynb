{
 "cells": [
  {
   "cell_type": "code",
   "execution_count": null,
   "metadata": {},
   "outputs": [],
   "source": [
    "import pandas as pd\n",
    "import numpy as np\n",
    "import matplotlib.pyplot as plt\n",
    "import seaborn as sns\n",
    "\n",
    "from sklearn.preprocessing import LabelEncoder\n",
    "from sklearn.model_selection import train_test_split\n",
    "from sklearn.metrics import accuracy_score,f1_score\n",
    "from __future__ import print_function"
   ]
  },
  {
   "cell_type": "code",
   "execution_count": null,
   "metadata": {},
   "outputs": [],
   "source": [
    "df1 = pd.read_csv('./data/train.csv')\n",
    "dfs = pd.read_csv('./data/test.csv')\n",
    "print(df1.columns)\n",
    "print(dfs.columns)"
   ]
  },
  {
   "cell_type": "code",
   "execution_count": null,
   "metadata": {},
   "outputs": [],
   "source": [
    "# df = pd.concat([df1, dfs])\n",
    "# df=df.drop_duplicates(keep=False)\n",
    "# df1=df\n",
    "data=df1\n",
    "\n",
    "data = data[['WiFi density','RSI class','Honk_duration','Timelevel','Intersection density','Class']]\n",
    "data=data.drop_duplicates(subset=['WiFi density','RSI class','Honk_duration','Timelevel','Intersection density'],keep='first', inplace=False)\n",
    "data=data.dropna()"
   ]
  },
  {
   "cell_type": "code",
   "execution_count": null,
   "metadata": {},
   "outputs": [],
   "source": [
    "\n",
    "le = LabelEncoder().fit(data.Class) \n",
    "labels = le.transform(data.Class)\n",
    "\n",
    "X = data.drop('Class',axis=1)\n",
    "X = X.values\n",
    "Y = labels\n",
    "X_train, X_validation, Y_train, Y_validation = train_test_split(X,Y,random_state=42, test_size=0.3)\n"
   ]
  },
  {
   "cell_type": "code",
   "execution_count": null,
   "metadata": {},
   "outputs": [],
   "source": [
    "class_names=['Fast','Normal','Slow','Very Fast']\n",
    "feature_names=['WiFi density','RSI class','Honk_duration','Timelevel','Intersection density']"
   ]
  },
  {
   "cell_type": "code",
   "execution_count": 5,
   "metadata": {},
   "outputs": [
    {
     "ename": "NameError",
     "evalue": "name 'X_train' is not defined",
     "output_type": "error",
     "traceback": [
      "\u001b[0;31m---------------------------------------------------------------------------\u001b[0m",
      "\u001b[0;31mNameError\u001b[0m                                 Traceback (most recent call last)",
      "\u001b[0;32m<ipython-input-5-bb651e125598>\u001b[0m in \u001b[0;36m<module>\u001b[0;34m\u001b[0m\n\u001b[1;32m      3\u001b[0m \u001b[0;31m# Model 1 - GradientBoosting Classifier\u001b[0m\u001b[0;34m\u001b[0m\u001b[0;34m\u001b[0m\u001b[0;34m\u001b[0m\u001b[0m\n\u001b[1;32m      4\u001b[0m \u001b[0mmodel_gb\u001b[0m \u001b[0;34m=\u001b[0m \u001b[0mGradientBoostingClassifier\u001b[0m\u001b[0;34m(\u001b[0m\u001b[0;34m)\u001b[0m\u001b[0;34m\u001b[0m\u001b[0;34m\u001b[0m\u001b[0m\n\u001b[0;32m----> 5\u001b[0;31m \u001b[0mmodel_gb\u001b[0m\u001b[0;34m.\u001b[0m\u001b[0mfit\u001b[0m\u001b[0;34m(\u001b[0m\u001b[0mX_train\u001b[0m\u001b[0;34m,\u001b[0m \u001b[0mY_train\u001b[0m\u001b[0;34m)\u001b[0m\u001b[0;34m\u001b[0m\u001b[0;34m\u001b[0m\u001b[0m\n\u001b[0m\u001b[1;32m      6\u001b[0m \u001b[0mprint\u001b[0m\u001b[0;34m(\u001b[0m\u001b[0;34m\"Accuracy=\"\u001b[0m\u001b[0;34m,\u001b[0m\u001b[0maccuracy_score\u001b[0m\u001b[0;34m(\u001b[0m\u001b[0mY_validation\u001b[0m\u001b[0;34m,\u001b[0m \u001b[0mmodel_gb\u001b[0m\u001b[0;34m.\u001b[0m\u001b[0mpredict\u001b[0m\u001b[0;34m(\u001b[0m\u001b[0mX_validation\u001b[0m\u001b[0;34m)\u001b[0m\u001b[0;34m)\u001b[0m\u001b[0;34m)\u001b[0m\u001b[0;34m\u001b[0m\u001b[0;34m\u001b[0m\u001b[0m\n\u001b[1;32m      7\u001b[0m \u001b[0mprint\u001b[0m\u001b[0;34m(\u001b[0m\u001b[0;34m\"F1-score=\"\u001b[0m\u001b[0;34m,\u001b[0m\u001b[0mf1_score\u001b[0m\u001b[0;34m(\u001b[0m\u001b[0mY_validation\u001b[0m\u001b[0;34m,\u001b[0m \u001b[0mmodel_gb\u001b[0m\u001b[0;34m.\u001b[0m\u001b[0mpredict\u001b[0m\u001b[0;34m(\u001b[0m\u001b[0mX_validation\u001b[0m\u001b[0;34m)\u001b[0m\u001b[0;34m,\u001b[0m\u001b[0maverage\u001b[0m\u001b[0;34m=\u001b[0m\u001b[0;34m'weighted'\u001b[0m\u001b[0;34m)\u001b[0m\u001b[0;34m)\u001b[0m\u001b[0;34m\u001b[0m\u001b[0;34m\u001b[0m\u001b[0m\n",
      "\u001b[0;31mNameError\u001b[0m: name 'X_train' is not defined"
     ]
    }
   ],
   "source": [
    "from sklearn.ensemble import RandomForestClassifier,GradientBoostingClassifier\n",
    "\n",
    "# Model 1 - GradientBoosting Classifier\n",
    "model_gb = GradientBoostingClassifier()\n",
    "model_gb.fit(X_train, Y_train)\n",
    "print(\"Accuracy=\",accuracy_score(Y_validation, model_gb.predict(X_validation)))\n",
    "print(\"F1-score=\",f1_score(Y_validation, model_gb.predict(X_validation),average='weighted'))\n",
    "\n",
    "\n",
    "model_gb = GradientBoostingClassifier()\n",
    "model_gb.fit(X, Y)\n",
    "\n",
    "\n",
    "# # Model 2 - RandomForest Classifier\n",
    "# model_rf = RandomForestClassifier()\n",
    "# model_rf.fit(X_train, Y_train)\n",
    "# print(\"Accuracy=\",accuracy_score(Y_validation, model_rf.predict(X_validation)))\n",
    "# print(\"F1-score=\",f1_score(Y_validation, model_rf.predict(X_validation),average='weighted'))\n",
    "\n",
    "# model_rf = RandomForestClassifier()\n",
    "# model_rf.fit(X, Y)\n"
   ]
  },
  {
   "cell_type": "code",
   "execution_count": null,
   "metadata": {},
   "outputs": [],
   "source": [
    "# LIME SECTION\n",
    "\n",
    "import lime\n",
    "import lime.lime_tabular\n",
    "\n",
    "\n",
    "predict_fn_gb = lambda x: model_gb.predict_proba(x).astype(float)\n",
    "\n",
    "\n",
    "# Create the LIME Explainer\n",
    "explainer = lime.lime_tabular.LimeTabularExplainer(X_train,mode='classification',feature_selection= 'auto',\n",
    "                                                   class_names=class_names,feature_names = feature_names, \n",
    "                                                   kernel_width=None,discretize_continuous=True)\n",
    "\n",
    "# Pick the observation in the validation set for which explanation is required\n",
    "observation_1 = 77\n",
    "\n",
    "# Get the explanation for GradientBoosting Classifier\n",
    "exp = explainer.explain_instance(X_validation[observation_1], predict_fn_gb, num_features=5,top_labels=1)\n",
    "exp.show_in_notebook(show_all=False)\n",
    "\n",
    "# exp.as_pyplot_figure(label=2)\n",
    "# print(exp.score)\n",
    "# exp.save_to_file('./data/',X_validation[observation_1], predict_fn_gb, num_features=5,top_labels=1)\n",
    "\n"
   ]
  },
  {
   "cell_type": "code",
   "execution_count": 4,
   "metadata": {},
   "outputs": [
    {
     "data": {
      "image/png": "[encoded data removed]",
      "text/plain": [
       "<matplotlib.figure.Figure at 0x7f1dc5cf71d0>"
      ]
     },
     "metadata": {},
     "output_type": "display_data"
    }
   ],
   "source": [
    "`"
   ]
  },
  {
   "cell_type": "code",
   "execution_count": 7,
   "metadata": {
    "scrolled": true
   },
   "outputs": [
    {
     "ename": "NameError",
     "evalue": "name 'class_names' is not defined",
     "output_type": "error",
     "traceback": [
      "\u001b[0;31m---------------------------------------------------------------------------\u001b[0m",
      "\u001b[0;31mNameError\u001b[0m                                 Traceback (most recent call last)",
      "\u001b[0;32m<ipython-input-7-7d148582575b>\u001b[0m in \u001b[0;36m<module>\u001b[0;34m\u001b[0m\n\u001b[1;32m      2\u001b[0m \u001b[0;31m# print('Predicted class: %s'% class_names[model_gb.predict(X_validation[observation_1].reshape(1,-1)).reshape(1,-1)[0,0]])\u001b[0m\u001b[0;34m\u001b[0m\u001b[0;34m\u001b[0m\u001b[0;34m\u001b[0m\u001b[0m\n\u001b[1;32m      3\u001b[0m \u001b[0;31m# print('Actual class: %s \\n' % class_names[Y_validation[observation_1]])\u001b[0m\u001b[0;34m\u001b[0m\u001b[0;34m\u001b[0m\u001b[0;34m\u001b[0m\u001b[0m\n\u001b[0;32m----> 4\u001b[0;31m \u001b[0ms2\u001b[0m\u001b[0;34m=\u001b[0m\u001b[0mclass_names\u001b[0m\u001b[0;34m[\u001b[0m\u001b[0mmodel_gb\u001b[0m\u001b[0;34m.\u001b[0m\u001b[0mpredict\u001b[0m\u001b[0;34m(\u001b[0m\u001b[0mX_validation\u001b[0m\u001b[0;34m[\u001b[0m\u001b[0mobservation_1\u001b[0m\u001b[0;34m]\u001b[0m\u001b[0;34m.\u001b[0m\u001b[0mreshape\u001b[0m\u001b[0;34m(\u001b[0m\u001b[0;36m1\u001b[0m\u001b[0;34m,\u001b[0m\u001b[0;34m-\u001b[0m\u001b[0;36m1\u001b[0m\u001b[0;34m)\u001b[0m\u001b[0;34m)\u001b[0m\u001b[0;34m.\u001b[0m\u001b[0mreshape\u001b[0m\u001b[0;34m(\u001b[0m\u001b[0;36m1\u001b[0m\u001b[0;34m,\u001b[0m\u001b[0;34m-\u001b[0m\u001b[0;36m1\u001b[0m\u001b[0;34m)\u001b[0m\u001b[0;34m[\u001b[0m\u001b[0;36m0\u001b[0m\u001b[0;34m,\u001b[0m\u001b[0;36m0\u001b[0m\u001b[0;34m]\u001b[0m\u001b[0;34m]\u001b[0m\u001b[0;34m\u001b[0m\u001b[0;34m\u001b[0m\u001b[0m\n\u001b[0m\u001b[1;32m      5\u001b[0m \u001b[0ms1\u001b[0m\u001b[0;34m=\u001b[0m\u001b[0mclass_names\u001b[0m\u001b[0;34m[\u001b[0m\u001b[0mY_validation\u001b[0m\u001b[0;34m[\u001b[0m\u001b[0mobservation_1\u001b[0m\u001b[0;34m]\u001b[0m\u001b[0;34m]\u001b[0m\u001b[0;34m\u001b[0m\u001b[0;34m\u001b[0m\u001b[0m\n\u001b[1;32m      6\u001b[0m \u001b[0;31m# print ('Explanation for %s Speed Class \\n' % class_names[model_gb.predict(X_validation[observation_1].reshape(1,-1)).reshape(1,-1)[0,0]])\u001b[0m\u001b[0;34m\u001b[0m\u001b[0;34m\u001b[0m\u001b[0;34m\u001b[0m\u001b[0m\n",
      "\u001b[0;31mNameError\u001b[0m: name 'class_names' is not defined"
     ]
    }
   ],
   "source": [
    "# print('Sample No: %d' % observation_1)\n",
    "# print('Predicted class: %s'% class_names[model_gb.predict(X_validation[observation_1].reshape(1,-1)).reshape(1,-1)[0,0]])\n",
    "# print('Actual class: %s \\n' % class_names[Y_validation[observation_1]])\n",
    "s2=class_names[model_gb.predict(X_validation[observation_1].reshape(1,-1)).reshape(1,-1)[0,0]]\n",
    "s1=class_names[Y_validation[observation_1]]\n",
    "# print ('Explanation for %s Speed Class \\n' % class_names[model_gb.predict(X_validation[observation_1].reshape(1,-1)).reshape(1,-1)[0,0]])\n",
    "s3= (','.join(map(str, exp.as_list(label=model_gb.predict(X_validation[observation_1].reshape(1,-1)).reshape(1,-1)[0,0]))))\n",
    "s6=exp.score\n",
    "s3=s3.replace('(','').replace(\"),\",',').replace(\"',\",\"':\").replace(')','')\n",
    "s3=s3.split(',')\n",
    "s=[]\n",
    "s.append(s1)\n",
    "s.append(s2)\n",
    "s.append(s6)\n",
    "s4=[]\n",
    "for w in s3:\n",
    "    w=w.split(':')\n",
    "    w[1]=float(w[1])\n",
    "    s4.append(w)\n",
    "#     print(w)\n",
    "import operator \n",
    "s4 = sorted(s4, key=operator.itemgetter(1))\n",
    "s4 = s4[::-1]\n",
    "# print(s4) \n",
    "\n",
    "for w in s4:\n",
    "    w[0]=w[0].replace('<=',',')\n",
    "    w[0]=w[0].replace('>=',',')\n",
    "    w[0]=w[0].replace('>',',')\n",
    "    w[0]=w[0].replace('<',',')\n",
    "    w[0]=w[0].replace(\"'\",'')\n",
    "    ab=w[0].split(\",\")\n",
    "    ab.sort()\n",
    "#     print(ab)\n",
    "    w[0]=ab[1]\n",
    "    w[1]=str(w[1])\n",
    "    w=\" : \".join(w)\n",
    "    s.append(w)\n",
    "columns = ['Actual','Predicted','score','Feat. rank1','Feat. rank2', 'Feat. rank3','Feat. rank4','Feat. rank5']\n",
    "df1= pd.DataFrame( [s],columns=columns)\n",
    "test_predictions =model_gb.predict_proba(X_validation[observation_1].reshape(1,-1))\n",
    "df2 = pd.DataFrame(test_predictions, columns=['Prob. Fast', 'Prob. Normal', 'Prob. Slow', 'Prob. Very Fast'])\n",
    "df1 = df2.join(df1) \n",
    "df=df1\n",
    "df"
   ]
  },
  {
   "cell_type": "code",
   "execution_count": null,
   "metadata": {},
   "outputs": [],
   "source": [
    "datas=dfs\n",
    "data = datas[['WiFi density','RSI class','Honk_duration','Timelevel','Intersection density','Class']]\n",
    "data=data.drop_duplicates(subset=['WiFi density','RSI class','Honk_duration','Timelevel','Intersection density'])\n",
    "data=data.dropna()\n",
    "\n",
    "le = LabelEncoder().fit(data.Class) \n",
    "labels = le.transform(data.Class)\n",
    "classes = list(le.classes_)\n",
    "X = data.drop('Class',axis=1)\n",
    "array = X.values\n",
    "number_of_features = len(array[0])\n",
    "X = array[:,0:number_of_features]\n",
    "Y = labels\n",
    "# print(classes)"
   ]
  },
  {
   "cell_type": "code",
   "execution_count": null,
   "metadata": {},
   "outputs": [],
   "source": [
    "for id in range(0,len(X)):\n",
    "    exp = explainer.explain_instance(X[id], predict_fn_gb, num_features=5,top_labels=1)\n",
    "#     print(exp.score)\n",
    "#     exp = explainer.explain_instance(X_validation[id], predict_fn_gb, num_features=5,top_labels=1)\n",
    "#     print('\\nSample Test No:',id+1)\n",
    "#     print('Predicted class: %s'% class_names[model_gb.predict(X_validation[id].reshape(1,-1)).reshape(1,-1)[0,0]])\n",
    "#     print('Actual class: %s \\n' % class_names[Y_validation[id]])\n",
    "#     print ('Explanation for %s Speed Class \\n' % class_names[model_gb.predict(X_validation[id].reshape(1,-1)).reshape(1,-1)[0,0]])\n",
    "#     print ('\\n'.join(map(str, exp.as_list(label=model_gb.predict(X_validation[id].reshape(1,-1)).reshape(1,-1)[0,0]))))\n",
    "    s2=class_names[model_gb.predict(X[id].reshape(1,-1)).reshape(1,-1)[0,0]]\n",
    "    s1=class_names[Y[id]]\n",
    "    # print ('Explanation for %s Speed Class \\n' % class_names[model_gb.predict(X_validation[observation_1].reshape(1,-1)).reshape(1,-1)[0,0]])\n",
    "    s3= (','.join(map(str, exp.as_list(label=model_gb.predict(X[id].reshape(1,-1)).reshape(1,-1)[0,0]))))\n",
    "\n",
    "    s3=s3.replace('(','').replace(\"),\",',').replace(\"',\",\"':\").replace(')','')\n",
    "    s3=s3.split(',')\n",
    "    s6=exp.score\n",
    "    s=[]\n",
    "    s.append(s1)\n",
    "    s.append(s2)\n",
    "    s.append(s6)\n",
    "    s4=[]\n",
    "    for w in s3:\n",
    "        w=w.split(':')\n",
    "        w[1]=float(w[1])\n",
    "        s4.append(w)\n",
    "    #     print(w)\n",
    "    import operator \n",
    "    s4 = sorted(s4, key=operator.itemgetter(1))\n",
    "    s4 = s4[::-1]\n",
    "    # print(s4) \n",
    "\n",
    "    for w in s4:\n",
    "        w[0]=w[0].replace('<=',',')\n",
    "        w[0]=w[0].replace('>=',',')\n",
    "        w[0]=w[0].replace('>',',')\n",
    "        w[0]=w[0].replace('<',',')\n",
    "        w[0]=w[0].replace(\"'\",'')\n",
    "        ab=w[0].split(\",\")\n",
    "        ab.sort()\n",
    "        w[0]=ab[1]\n",
    "        w[1]=str(w[1])\n",
    "        w=\" : \".join(w)\n",
    "        s.append(w)\n",
    "    columns = ['Actual','Predicted','Score','Feat. rank1','Feat. rank2', 'Feat. rank3','Feat. rank4','Feat. rank5']\n",
    "    df1= pd.DataFrame( [s],columns=columns)\n",
    "    test_predictions =model_gb.predict_proba(X[id].reshape(1,-1))\n",
    "    df2 = pd.DataFrame(test_predictions, columns=['Prob. Fast', 'Prob. Normal', 'Prob. Slow', 'Prob. Very Fast'])\n",
    "    df1 = df2.join(df1)\n",
    "    df=pd.DataFrame(np.concatenate([df, df1]),columns=df.columns)\n",
    "\n",
    "\n",
    "df.drop(df.index[[0]],inplace=True)\n",
    "df = df.reset_index(drop=True)\n",
    "df"
   ]
  },
  {
   "cell_type": "code",
   "execution_count": null,
   "metadata": {},
   "outputs": [],
   "source": [
    "df=dfs.join(df)\n",
    "df.to_csv('./data/3apr_lime.csv', index = False)\n",
    "\n",
    "from sklearn.metrics import accuracy_score, log_loss,classification_report\n",
    "# import confusion_plot as cp\n",
    "# import matplotlib.pyplot as plt\n",
    "target_names = ['Slow', 'Normal','Fast','VeryFast']\n",
    "\n",
    "X=df['Actual'].values\n",
    "Y=df['Predicted'].values\n",
    "# print(\"Accuracy:\",accuracy_score(X,Y))"
   ]
  },
  {
   "cell_type": "code",
   "execution_count": null,
   "metadata": {},
   "outputs": [],
   "source": [
    "df1=df\n",
    "cnt=0\n",
    "#boundary condition +-1 or +-2 or +-3\n",
    "val=3\n",
    "\n",
    "for index, row in df1.iterrows():\n",
    "    if row['Predicted']=='Normal'and row['Actual']=='Slow':\n",
    "        if(abs(row['Mean_speed_kmph']-20)<=val):\n",
    "            print(row['Mean_speed_kmph'],\"20\",abs(row['Mean_speed_kmph']-20))\n",
    "#             cnt+=row[row['Predicted']]+row[row['Actual']]\n",
    "            df1.loc[index,'Predicted']=row['Actual']\n",
    "#             df1.loc[index,'Result']='Yes'\n",
    "          \n",
    "    if row['Predicted']=='Slow'and row['Actual']=='Normal':\n",
    "        if(abs(row['Mean_speed_kmph']-20)<=val):\n",
    "            print(row['Mean_speed_kmph'],\"20\",abs(row['Mean_speed_kmph']-20))\n",
    "#             cnt+=row[row['Predicted']]+row[row['Actual']]\n",
    "            df1.loc[index,'Predicted']=row['Actual']\n",
    "#             df1.loc[index,'Result']='Yes'\n",
    "      \n",
    "    if row['Predicted']=='Normal'and row['Actual']=='Fast':\n",
    "        if(abs(row['Mean_speed_kmph']-35)<=val):\n",
    "            print(row['Mean_speed_kmph'],\"35\",abs(row['Mean_speed_kmph']-35))\n",
    "#             cnt+=row[row['Predicted']]+row[row['Actual']]\n",
    "            df1.loc[index,'Predicted']=row['Actual']\n",
    "#             df1.loc[index,'Result']='Yes'\n",
    "           \n",
    "    if row['Predicted']=='Fast'and row['Actual']=='Normal':\n",
    "        if(abs(row['Mean_speed_kmph']-35)<=val):\n",
    "            print(row['Mean_speed_kmph'],\"35\",abs(row['Mean_speed_kmph']-35))\n",
    "#             cnt+=row[row['Predicted']]+row[row['Actual']]\n",
    "            df1.loc[index,'Predicted']=row['Actual']\n",
    "#             df1.loc[index,'Result']='Yes'\n",
    "            \n",
    "    if row['Predicted']=='Very Fast'and row['Actual']=='Fast':\n",
    "        if(abs(row['Mean_speed_kmph']-50)<=val):\n",
    "            print(row['Mean_speed_kmph'],\"50\",abs(row['Mean_speed_kmph']-50))\n",
    "#             cnt+=row[row['Predicted']]+row[row['Actual']]\n",
    "            df1.loc[index,'Predicted']=row['Actual']\n",
    "#             df1.loc[index,'Result']='Yes'\n",
    "         \n",
    "    if row['Predicted']=='Fast'and row['Actual']=='Very Fast':\n",
    "        if(abs(row['Mean_speed_kmph']-50)<=val):\n",
    "            print(row['Mean_speed_kmph'],\"50\",abs(row['Mean_speed_kmph']-50))\n",
    "#             cnt+=row[row['Predicted']]+row[row['Actual']]\n",
    "            df1.loc[index,'Predicted']=row['Actual']\n",
    "#             df1.loc[index,'Result']='Yes'\n",
    "    \n",
    "\n",
    "df=df1"
   ]
  },
  {
   "cell_type": "code",
   "execution_count": null,
   "metadata": {},
   "outputs": [],
   "source": [
    "from sklearn.metrics import accuracy_score, log_loss,classification_report\n",
    "# import confusion_plot as cp\n",
    "# import matplotlib.pyplot as plt\n",
    "target_names = ['Slow', 'Normal','Fast','VeryFast']\n",
    "\n",
    "X=df['Actual'].values\n",
    "Y=df['Predicted'].values\n",
    "# print(\"Accuracy:\",accuracy_score(X,Y))"
   ]
  },
  {
   "cell_type": "code",
   "execution_count": null,
   "metadata": {},
   "outputs": [],
   "source": [
    "# df=df1\n",
    "# df=df[['Column',\n",
    "#  'Prob. Fast',\n",
    "#  'Prob. Normal',\n",
    "#  'Prob. Slow',\n",
    "#  'Prob. Very Fast',\n",
    "#  'Actual',\n",
    "#  'Predicted',\n",
    "#  'Feat. rank1',\n",
    "#  'Feat. rank2',\n",
    "#  'Feat. rank3',\n",
    "#  'Feat. rank4',\n",
    "#  'Feat. rank5']]\n",
    "# df=df.copy()\n",
    "# df[\"Acc 1\"] = \"\"\n",
    "# df[\"Acc 2\"] =\" \"\n",
    "# for index, row in df.iterrows():\n",
    "#     df.loc[index, 'Acc 1'] = row[\"Prob. \"+row['Actual class']]\n",
    "#     df.loc[index, 'Acc 2'] = row[\"Prob. \"+row['Predicted class']]\n",
    "# df.reset_index()\n",
    "# print(\"Actual Prob.\", df['Acc 1'].sum()/df['Acc 1'].count())\n",
    "# print(\"Predicted Prob.\", df['Acc 2'].sum()/df['Acc 1'].count())"
   ]
  },
  {
   "cell_type": "code",
   "execution_count": null,
   "metadata": {},
   "outputs": [],
   "source": [
    "df.to_csv('./data/result_apr.csv', index = False)\n",
    "df\n"
   ]
  },
  {
   "cell_type": "code",
   "execution_count": null,
   "metadata": {},
   "outputs": [],
   "source": []
  },
  {
   "cell_type": "code",
   "execution_count": null,
   "metadata": {},
   "outputs": [],
   "source": []
  }
 ],
 "metadata": {
  "kernelspec": {
   "display_name": "Python 3",
   "language": "python",
   "name": "python3"
  },
  "language_info": {
   "codemirror_mode": {
    "name": "ipython",
    "version": 3
   },
   "file_extension": ".py",
   "mimetype": "text/x-python",
   "name": "python",
   "nbconvert_exporter": "python",
   "pygments_lexer": "ipython3",
   "version": "3.6.7"
  }
 },
 "nbformat": 4,
 "nbformat_minor": 2
}
